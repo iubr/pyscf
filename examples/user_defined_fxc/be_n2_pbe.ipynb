{
 "cells": [
  {
   "cell_type": "code",
   "execution_count": 1,
   "id": "0b6932cb-cbcf-43b7-be3a-3746c488d73d",
   "metadata": {},
   "outputs": [
    {
     "name": "stdout",
     "output_type": "stream",
     "text": [
      "* XRayHelp Warning * Adcc is not available.\n",
      "* XRayHelp Warning * VeloxChem is not available.\n",
      "* XRayHelp Warning * Pandas is not available.\n",
      "\n",
      "Could not import geomeTRIC!!!\n",
      "\n"
     ]
    }
   ],
   "source": [
    "import numpy as np\n",
    "import pyscf\n",
    "from kspies import wy, util\n",
    "import matplotlib.pyplot as plt\n",
    "import xray_help\n",
    "import basis_set_exchange\n",
    "import MolecGeom as geom"
   ]
  },
  {
   "cell_type": "code",
   "execution_count": 2,
   "id": "bf9d68af-a890-4cfc-bed2-8fde24fe959d",
   "metadata": {},
   "outputs": [],
   "source": [
    "name = \"n2\"\n",
    "regularization = 0"
   ]
  },
  {
   "cell_type": "code",
   "execution_count": 3,
   "id": "b8da3a0f-0645-465a-9717-42c096b89420",
   "metadata": {},
   "outputs": [
    {
     "data": {
      "application/3dmoljs_load.v0": "<div id=\"3dmolviewer_17379726719751256\"  style=\"position: relative; width: 300px; height: 300px;\">\n        <p id=\"3dmolwarning_17379726719751256\" style=\"background-color:#ffcccc;color:black\">3Dmol.js failed to load for some reason.  Please check your browser console for error messages.<br></p>\n        </div>\n<script>\n\nvar loadScriptAsync = function(uri){\n  return new Promise((resolve, reject) => {\n    //this is to ignore the existence of requirejs amd\n    var savedexports, savedmodule;\n    if (typeof exports !== 'undefined') savedexports = exports;\n    else exports = {}\n    if (typeof module !== 'undefined') savedmodule = module;\n    else module = {}\n\n    var tag = document.createElement('script');\n    tag.src = uri;\n    tag.async = true;\n    tag.onload = () => {\n        exports = savedexports;\n        module = savedmodule;\n        resolve();\n    };\n  var firstScriptTag = document.getElementsByTagName('script')[0];\n  firstScriptTag.parentNode.insertBefore(tag, firstScriptTag);\n});\n};\n\nif(typeof $3Dmolpromise === 'undefined') {\n$3Dmolpromise = null;\n  $3Dmolpromise = loadScriptAsync('https://cdnjs.cloudflare.com/ajax/libs/3Dmol/2.4.2/3Dmol-min.js');\n}\n\nvar viewer_17379726719751256 = null;\nvar warn = document.getElementById(\"3dmolwarning_17379726719751256\");\nif(warn) {\n    warn.parentNode.removeChild(warn);\n}\n$3Dmolpromise.then(function() {\nviewer_17379726719751256 = $3Dmol.createViewer(document.getElementById(\"3dmolviewer_17379726719751256\"),{backgroundColor:\"white\"});\nviewer_17379726719751256.zoomTo();\n\tviewer_17379726719751256.addModel(\"2\\n\\nN    -0.549000000     0.000000000     0.000000000\\nN     0.549000000     0.000000000     0.000000000\\n\");\n\tviewer_17379726719751256.setViewStyle({\"style\": \"outline\", \"width\": 0.05});\n\tviewer_17379726719751256.setStyle({\"stick\": {}, \"sphere\": {\"scale\": 0.25}});\n\tviewer_17379726719751256.zoomTo();\nviewer_17379726719751256.render();\n});\n</script>",
      "text/html": [
       "<div id=\"3dmolviewer_17379726719751256\"  style=\"position: relative; width: 300px; height: 300px;\">\n",
       "        <p id=\"3dmolwarning_17379726719751256\" style=\"background-color:#ffcccc;color:black\">3Dmol.js failed to load for some reason.  Please check your browser console for error messages.<br></p>\n",
       "        </div>\n",
       "<script>\n",
       "\n",
       "var loadScriptAsync = function(uri){\n",
       "  return new Promise((resolve, reject) => {\n",
       "    //this is to ignore the existence of requirejs amd\n",
       "    var savedexports, savedmodule;\n",
       "    if (typeof exports !== 'undefined') savedexports = exports;\n",
       "    else exports = {}\n",
       "    if (typeof module !== 'undefined') savedmodule = module;\n",
       "    else module = {}\n",
       "\n",
       "    var tag = document.createElement('script');\n",
       "    tag.src = uri;\n",
       "    tag.async = true;\n",
       "    tag.onload = () => {\n",
       "        exports = savedexports;\n",
       "        module = savedmodule;\n",
       "        resolve();\n",
       "    };\n",
       "  var firstScriptTag = document.getElementsByTagName('script')[0];\n",
       "  firstScriptTag.parentNode.insertBefore(tag, firstScriptTag);\n",
       "});\n",
       "};\n",
       "\n",
       "if(typeof $3Dmolpromise === 'undefined') {\n",
       "$3Dmolpromise = null;\n",
       "  $3Dmolpromise = loadScriptAsync('https://cdnjs.cloudflare.com/ajax/libs/3Dmol/2.4.2/3Dmol-min.js');\n",
       "}\n",
       "\n",
       "var viewer_17379726719751256 = null;\n",
       "var warn = document.getElementById(\"3dmolwarning_17379726719751256\");\n",
       "if(warn) {\n",
       "    warn.parentNode.removeChild(warn);\n",
       "}\n",
       "$3Dmolpromise.then(function() {\n",
       "viewer_17379726719751256 = $3Dmol.createViewer(document.getElementById(\"3dmolviewer_17379726719751256\"),{backgroundColor:\"white\"});\n",
       "viewer_17379726719751256.zoomTo();\n",
       "\tviewer_17379726719751256.addModel(\"2\\n\\nN    -0.549000000     0.000000000     0.000000000\\nN     0.549000000     0.000000000     0.000000000\\n\");\n",
       "\tviewer_17379726719751256.setViewStyle({\"style\": \"outline\", \"width\": 0.05});\n",
       "\tviewer_17379726719751256.setStyle({\"stick\": {}, \"sphere\": {\"scale\": 0.25}});\n",
       "\tviewer_17379726719751256.zoomTo();\n",
       "viewer_17379726719751256.render();\n",
       "});\n",
       "</script>"
      ]
     },
     "metadata": {},
     "output_type": "display_data"
    }
   ],
   "source": [
    "mymol = geom.Geometry()\n",
    "mymol.new_read_xyz(name+\".xyz\")\n",
    "mymol.show()"
   ]
  },
  {
   "cell_type": "code",
   "execution_count": 4,
   "id": "22b86873-f71d-4bd7-be92-7eee7d768d68",
   "metadata": {
    "scrolled": true
   },
   "outputs": [
    {
     "name": "stdout",
     "output_type": "stream",
     "text": [
      "Help on function get_basis in module basis_set_exchange.api:\n",
      "\n",
      "get_basis(name, elements=None, version=None, fmt=None, uncontract_general=False, uncontract_spdf=False, uncontract_segmented=False, remove_free_primitives=False, make_general=False, optimize_general=False, augment_diffuse=0, augment_steep=0, get_aux=0, data_dir=None, header=True)\n",
      "    Obtain a basis set\n",
      "    \n",
      "    This is the main function for getting basis set information.\n",
      "    This function reads in all the basis data and returns it either\n",
      "    as a string or as a python dictionary.\n",
      "    \n",
      "    Parameters\n",
      "    ----------\n",
      "    name : str\n",
      "        Name of the basis set. This is not case sensitive.\n",
      "    elements : str or list\n",
      "        List of elements that you want the basis set for.\n",
      "        Elements can be specified by Z-number (int or str) or by symbol (str).\n",
      "        If this argument is a str (ie, '1-3,7-10'), it is expanded into a list.\n",
      "        Z numbers and symbols (case insensitive) can be used interchangeably\n",
      "        (see :func:`basis_set_exchange.misc.expand_elements`)\n",
      "    \n",
      "        If an empty string or list is passed, or if None is passed (the default),\n",
      "        all elements for which the basis set is defined are included.\n",
      "    version : int or str\n",
      "        Obtain a specific version of this basis set. By default,\n",
      "        the latest version is returned.\n",
      "    fmt: str\n",
      "        The desired output format of the basis set. By default,\n",
      "        basis set information is returned as a python dictionary. Otherwise,\n",
      "        if a format is specified, a string is returned.\n",
      "        Use :func:`basis_set_exchange.api.get_formats` to programmatically obtain the available\n",
      "        formats.  The `fmt` argument is not case sensitive.\n",
      "    \n",
      "        Available formats are\n",
      "    \n",
      "            * bdf\n",
      "            * gamess_us\n",
      "            * gaussian94\n",
      "            * json\n",
      "            * nwchem\n",
      "            * psi4\n",
      "            * turbomole\n",
      "    \n",
      "    uncontract_general : bool\n",
      "        If True, remove general contractions by duplicating the set\n",
      "        of primitive exponents with each vector of coefficients.\n",
      "        Primitives with zero coefficient are removed, as are duplicate shells.\n",
      "    uncontract_spdf : bool\n",
      "        If True, remove general contractions with combined angular momentum (sp, spd, etc)\n",
      "        by duplicating the set of primitive exponents with each vector of coefficients.\n",
      "        Primitives with zero coefficient are removed, as are duplicate shells.\n",
      "    uncontract_segmented : bool\n",
      "        If True, remove segmented contractions by duplicating each primitive into new shells.\n",
      "        Each coefficient is set to 1.0\n",
      "    make_general : bool\n",
      "        If True, make the basis set as generally-contracted as possible. There will be one\n",
      "        shell per angular momentum (for each element)\n",
      "    optimize_general : bool\n",
      "        Optimize by removing general contractions that contain uncontracted\n",
      "        functions (see :func:`basis_set_exchange.manip.optimize_general`)\n",
      "    augment_diffuse : int\n",
      "        Add n diffuse functions by even-tempered extrapolation\n",
      "    augment_steep : int\n",
      "        Add n steep functions by even-tempered extrapolation\n",
      "    get_aux : int\n",
      "        Instead of the orbital basis, get an auxiliary basis\n",
      "        set. Options 0 (return orbital basis), 1 (return AutoAux\n",
      "        basis), 2 (return Auto-ABS Coulomb fitting basis)\n",
      "    data_dir : str\n",
      "        Data directory with all the basis set information. By default,\n",
      "        it is in the 'data' subdirectory of this project.\n",
      "    \n",
      "    Returns\n",
      "    -------\n",
      "    str or dict\n",
      "        The basis set in the desired format. If `fmt` is **None**, this will be a python\n",
      "        dictionary. Otherwise, it will be a string.\n",
      "\n"
     ]
    }
   ],
   "source": [
    "help(basis_set_exchange.api.get_basis)"
   ]
  },
  {
   "cell_type": "code",
   "execution_count": 5,
   "id": "c4cdb325-8896-4e0a-a12e-b0934d607a93",
   "metadata": {},
   "outputs": [],
   "source": [
    "basis_name = \"cc-pvtz\" #\"cc-pvtz\" #\"aug-cc-pvqz\" #\"aug-cc-pvqz\"\n",
    "\n",
    "if \"unc\" in basis_name:\n",
    "    basis_set = basis_name\n",
    "else:\n",
    "    uncontract_general=False\n",
    "    basis_set = {}\n",
    "    for atom in mymol.list:\n",
    "        basis_txt = basis_set_exchange.api.get_basis(basis_name, augment_diffuse=0, uncontract_general=uncontract_general,\n",
    "                                                     elements=atom.symbol, fmt=\"nwchem\")\n",
    "        basis = pyscf.gto.load(basis_txt, atom.symbol)\n",
    "        basis_set[atom.symbol] = basis\n",
    "\n",
    "    if uncontract_general:\n",
    "        basis_name = \"uctrgen-\" + basis_name"
   ]
  },
  {
   "cell_type": "code",
   "execution_count": 6,
   "id": "141aa70c-4fd8-4fa2-8045-166dabe06688",
   "metadata": {},
   "outputs": [],
   "source": [
    "molecule = xray_help.build_molecule(name + \".xyz\", basis=basis_set)"
   ]
  },
  {
   "cell_type": "code",
   "execution_count": 7,
   "id": "02b4bc7b-dc2a-441e-8f32-6f4c3fa035be",
   "metadata": {},
   "outputs": [
    {
     "data": {
      "text/plain": [
       "[array([1.142e+04, 1.712e+03, 3.893e+02, 1.100e+02, 3.557e+01, 1.254e+01,\n",
       "        4.644e+00, 1.293e+00, 5.118e-01, 1.787e-01]),\n",
       " array([26.63  ,  5.948 ,  1.742 ,  0.555 ,  0.1725]),\n",
       " array([1.654, 0.469]),\n",
       " array([1.093]),\n",
       " array([1.142e+04, 1.712e+03, 3.893e+02, 1.100e+02, 3.557e+01, 1.254e+01,\n",
       "        4.644e+00, 1.293e+00, 5.118e-01, 1.787e-01]),\n",
       " array([26.63  ,  5.948 ,  1.742 ,  0.555 ,  0.1725]),\n",
       " array([1.654, 0.469]),\n",
       " array([1.093])]"
      ]
     },
     "execution_count": 7,
     "metadata": {},
     "output_type": "execute_result"
    }
   ],
   "source": [
    "molecule.bas_exps()"
   ]
  },
  {
   "cell_type": "code",
   "execution_count": 8,
   "id": "4dad0fc9-8cf0-4018-bb91-0dfa3d7a972d",
   "metadata": {},
   "outputs": [],
   "source": [
    "functional = \"PBE,\"\n",
    "guide = \"GGA_X_PBE\" #functional"
   ]
  },
  {
   "cell_type": "code",
   "execution_count": 9,
   "id": "6f0ebd71-3d58-43e7-a99b-ace2f0d752fc",
   "metadata": {
    "scrolled": true
   },
   "outputs": [
    {
     "name": "stdout",
     "output_type": "stream",
     "text": [
      "Grid level:  6\n",
      "\n",
      "\n",
      "******** <class 'pyscf.dft.rks.RKS'> ********\n",
      "method = RKS\n",
      "initial guess = minao\n",
      "damping factor = 0\n",
      "level_shift factor = 0\n",
      "DIIS = <class 'pyscf.scf.diis.CDIIS'>\n",
      "diis_start_cycle = 1\n",
      "diis_space = 8\n",
      "diis_damp = 0\n",
      "SCF conv_tol = 1e-09\n",
      "SCF conv_tol_grad = None\n",
      "SCF max_cycles = 50\n",
      "direct_scf = True\n",
      "direct_scf_tol = 1e-13\n",
      "chkfile to save SCF result = /tmp/tmpeertv26v\n",
      "max_memory 4000 MB (current use 156 MB)\n",
      "XC library pyscf.dft.libxc version 7.0.0\n",
      "    S. Lehtola, C. Steigemann, M. J.T. Oliveira, and M. A.L. Marques.,  SoftwareX 7, 1–5 (2018)\n",
      "XC functionals = PBE,\n",
      "    J. P. Perdew, K. Burke, and M. Ernzerhof.,  Phys. Rev. Lett. 77, 3865 (1996)\n",
      "    J. P. Perdew, K. Burke, and M. Ernzerhof.,  Phys. Rev. Lett. 78, 1396 (1997)\n",
      "small_rho_cutoff = 1e-07\n",
      "Set gradient conv threshold to 3.16228e-05\n",
      "Initial guess from minao.\n",
      "init E= -109.148569391102\n",
      "  HOMO = -0.335925157422073  LUMO = -0.0133941837037015\n",
      "cycle= 1 E= -108.993939727369  delta_E= 0.155  |g|= 0.0858  |ddm|= 3.25\n",
      "  HOMO = -0.338010728859581  LUMO = -0.0332625579729444\n",
      "cycle= 2 E= -108.995053035545  delta_E= -0.00111  |g|= 0.0207  |ddm|= 0.166\n",
      "  HOMO = -0.333288249812582  LUMO = -0.0264451982150928\n",
      "cycle= 3 E= -108.995120139583  delta_E= -6.71e-05  |g|= 0.0122  |ddm|= 0.05\n",
      "  HOMO = -0.335686432369951  LUMO = -0.0287113159388543\n",
      "cycle= 4 E= -108.995149763277  delta_E= -2.96e-05  |g|= 0.000776  |ddm|= 0.0192\n",
      "  HOMO = -0.335522357975594  LUMO = -0.0286077795373232\n",
      "cycle= 5 E= -108.995149870528  delta_E= -1.07e-07  |g|= 5.5e-05  |ddm|= 0.0013\n",
      "  HOMO = -0.335538741272311  LUMO = -0.0286223681651354\n",
      "cycle= 6 E= -108.995149871213  delta_E= -6.85e-10  |g|= 2.89e-06  |ddm|= 0.000111\n",
      "  HOMO = -0.335537222704753  LUMO = -0.0286209282800964\n",
      "Extra cycle  E= -108.995149871213  delta_E= -3.13e-13  |g|= 2.86e-06  |ddm|= 1.03e-05\n",
      "converged SCF energy = -108.995149871213\n"
     ]
    },
    {
     "data": {
      "text/plain": [
       "-108.99514987121293"
      ]
     },
     "execution_count": 9,
     "metadata": {},
     "output_type": "execute_result"
    }
   ],
   "source": [
    "pyscf_drv = pyscf.scf.RKS(molecule)\n",
    "pyscf_drv.xc = functional\n",
    "pyscf_drv.verbose = 4\n",
    "pyscf_drv.grids.level = 6\n",
    "print(\"Grid level: \", pyscf_drv.grids.level)\n",
    "pyscf_drv.kernel()"
   ]
  },
  {
   "cell_type": "code",
   "execution_count": 10,
   "id": "a0fd3070-56a8-4018-9bd2-814cae42dd53",
   "metadata": {
    "scrolled": true
   },
   "outputs": [],
   "source": [
    "# pyscf_drv = pyscf.scf.RHF(molecule)\n",
    "# pyscf_drv.verbose = 4\n",
    "# pyscf_drv.kernel()"
   ]
  },
  {
   "cell_type": "code",
   "execution_count": 11,
   "id": "ae1b7cec-018f-4923-b0de-65fdd479bec9",
   "metadata": {
    "scrolled": true
   },
   "outputs": [],
   "source": [
    "# pyscf_drv.analyze()"
   ]
  },
  {
   "cell_type": "code",
   "execution_count": 12,
   "id": "ab293cca-7f63-40c3-a29c-81a3e50ca920",
   "metadata": {},
   "outputs": [],
   "source": [
    "ni = pyscf_drv._numint\n",
    "# xctype = ni._xc_type(pyscf_drv.xc)"
   ]
  },
  {
   "cell_type": "code",
   "execution_count": 13,
   "id": "cc4c511a-e3be-4561-9791-f6ec2be6df0d",
   "metadata": {},
   "outputs": [],
   "source": [
    "dm_0 = pyscf_drv.make_rdm1()"
   ]
  },
  {
   "cell_type": "code",
   "execution_count": 14,
   "id": "c4f81e6a-7330-40f0-bcac-3c537d05a047",
   "metadata": {},
   "outputs": [],
   "source": [
    "coords = np.array([np.array((x, 0., 0.)) for x in np.linspace(-5, 5, 5001)])"
   ]
  },
  {
   "cell_type": "code",
   "execution_count": 15,
   "id": "1a228177-0de8-48bb-892f-adfbefe95019",
   "metadata": {},
   "outputs": [
    {
     "data": {
      "text/plain": [
       "(5001, 3)"
      ]
     },
     "execution_count": 15,
     "metadata": {},
     "output_type": "execute_result"
    }
   ],
   "source": [
    "coords.shape"
   ]
  },
  {
   "cell_type": "code",
   "execution_count": 16,
   "id": "1fe049c5-24e2-4a71-89cc-8f3bec00fe56",
   "metadata": {},
   "outputs": [],
   "source": [
    "#WY calculations\n",
    "mw = wy.RWY(molecule, dm_0)\n",
    "mw.guide = guide\n",
    "mw.method = 'SLSQP'\n",
    "mw.reg = regularization\n",
    "mw.tol = 1e-6"
   ]
  },
  {
   "cell_type": "code",
   "execution_count": 17,
   "id": "9bf277ca-316d-4711-858e-78084fdaa9bc",
   "metadata": {},
   "outputs": [],
   "source": [
    "if guide == \"FAXC\":\n",
    "    xctype = \"FAXC\"\n",
    "elif guide == \"Slater\":\n",
    "    xctype = \"LDA\"\n",
    "else:\n",
    "    xctype = \"GGA\""
   ]
  },
  {
   "cell_type": "code",
   "execution_count": 18,
   "id": "4cce8196-63c6-472f-82b3-6f092ca565ae",
   "metadata": {},
   "outputs": [],
   "source": [
    "pb = pyscf.dft.numint.eval_ao(mw.pmol, coords) # potential basis values on grid\n",
    "\n",
    "if xctype == \"GGA\":\n",
    "    vg = util.eval_vxc(molecule, dm_0, mw.guide, coords) # guiding potential on grid\n",
    "elif xctype == \"FAXC\":\n",
    "    dmxc = 1.0/molecule.nelectron * dm_0\n",
    "    vg = util.eval_vh(molecule, coords, dmxc) # guiding potential on grid\n",
    "else:\n",
    "    dm_on_grid = pyscf.dft.numint.eval_rho(molecule, pb,\n",
    "                                           dm_0, xctype='LDA')\n",
    "    vg = ni.eval_xc_eff(guide, dm_on_grid, deriv=1)[1]"
   ]
  },
  {
   "cell_type": "code",
   "execution_count": 19,
   "id": "d7e0deb1-d84b-4dc9-9ca2-bb44218573d4",
   "metadata": {},
   "outputs": [],
   "source": [
    "epsilon = 5e-7\n",
    "delta_rho = epsilon * np.diag(np.ones(dm_0.shape[0]))\n",
    "dm_plus = dm_0 + delta_rho\n",
    "dm_minus = dm_0 - delta_rho"
   ]
  },
  {
   "cell_type": "code",
   "execution_count": 20,
   "id": "a962706c-1293-4257-ac0e-a8c29c616245",
   "metadata": {},
   "outputs": [],
   "source": [
    "if xctype == 'GGA':\n",
    "    vg_plus = util.eval_vxc(molecule, dm_plus, mw.guide, coords) # guiding potential on grid\n",
    "    vg_minus = util.eval_vxc(molecule, dm_minus, mw.guide, coords) # guiding potential on grid\n",
    "elif xctype == \"FAXC\":\n",
    "    dmxc_plus = 1.0/molecule.nelectron * dm_plus\n",
    "    vg_plus = util.eval_vh(molecule, coords, dmxc_plus) # guiding potential on grid\n",
    "    dmxc_minus = 1.0/molecule.nelectron * dm_minus\n",
    "    vg_minus = util.eval_vh(molecule, coords, dmxc_minus) # guiding potential on grid\n",
    "else:\n",
    "    print(xctype)\n",
    "    dm_plus_on_grid = pyscf.dft.numint.eval_rho(molecule, pb,\n",
    "                                           dm_plus, xctype='LDA')\n",
    "    dm_minus_on_grid = pyscf.dft.numint.eval_rho(molecule, pb,\n",
    "                                           dm_minus, xctype='LDA')\n",
    "    vg_plus = ni.eval_xc_eff(guide, dm_plus_on_grid, deriv=1)[1]\n",
    "    vg_minus = ni.eval_xc_eff(guide, dm_minus_on_grid, deriv=1)[1]"
   ]
  },
  {
   "cell_type": "code",
   "execution_count": 21,
   "id": "d9c359a4-bff8-4cc3-8f49-59d35946c5fc",
   "metadata": {},
   "outputs": [
    {
     "data": {
      "image/png": "[encoded data removed]",
      "text/plain": [
       "<Figure size 640x480 with 1 Axes>"
      ]
     },
     "metadata": {},
     "output_type": "display_data"
    }
   ],
   "source": [
    "plt.figure()\n",
    "\n",
    "if xctype == \"GGA\" or xctype == \"FAXC\":\n",
    "    plt.plot(coords[:,0], vg, label=\"vg_0\")\n",
    "    plt.plot(coords[:,0], vg_plus, label=\"vg_+\")\n",
    "    plt.plot(coords[:,0], vg_minus, label=\"vg_-\")\n",
    "else:\n",
    "    plt.plot(coords[:,0], vg[0,:], label=\"vg_0\")\n",
    "    plt.plot(coords[:,0], vg_plus[0,:], label=\"vg_+\")\n",
    "    plt.plot(coords[:,0], vg_minus[0,:], label=\"vg_-\")\n",
    "\n",
    "plt.xlabel(\"x\")\n",
    "plt.ylabel(\"vx(r)\")\n",
    "plt.xlim(-5, 5)\n",
    "#plt.ylim(-10, 0)\n",
    "plt.legend()\n",
    "plt.subplots_adjust(left=0.2, right=0.93, bottom=0.12, top=0.97)\n",
    "plt.show()"
   ]
  },
  {
   "cell_type": "code",
   "execution_count": 22,
   "id": "e28e5455-b682-4137-95f9-c733d263c611",
   "metadata": {},
   "outputs": [
    {
     "name": "stdout",
     "output_type": "stream",
     "text": [
      "[-1.31402372e-07 -1.31213466e-07 -1.31082742e-07 ... -1.31069856e-07\n",
      " -1.31209801e-07 -1.31420614e-07]\n"
     ]
    }
   ],
   "source": [
    "print(vg_plus - vg_minus)"
   ]
  },
  {
   "cell_type": "code",
   "execution_count": 23,
   "id": "5fd20dff-0af1-412b-8e7e-1cb326efc965",
   "metadata": {},
   "outputs": [],
   "source": [
    "# plt.figure()\n",
    "\n",
    "# if xctype == \"GGA\":\n",
    "#     plt.plot(coords[:,0], vg_plus - vg_minus, label=\"vg+ - vg-\")\n",
    "# else:\n",
    "#     plt.plot(coords[:,0], vg_plus[0,:] - vg_minus[0,:], label=\"vg+ - vg-\")\n",
    "\n",
    "# plt.xlabel(\"x\")\n",
    "# plt.ylabel(\"vx(r)\")\n",
    "# plt.xlim(-5, 5)\n",
    "# # plt.ylim(-5, 0)\n",
    "# plt.legend()\n",
    "# plt.subplots_adjust(left=0.2, right=0.93, bottom=0.12, top=0.97)\n",
    "# plt.show()"
   ]
  },
  {
   "cell_type": "code",
   "execution_count": 42,
   "id": "e6c8eb75-4eff-4b59-8e1c-cd26cee03a23",
   "metadata": {},
   "outputs": [
    {
     "data": {
      "text/plain": [
       "0"
      ]
     },
     "execution_count": 42,
     "metadata": {},
     "output_type": "execute_result"
    }
   ],
   "source": [
    "regularization"
   ]
  },
  {
   "cell_type": "code",
   "execution_count": 43,
   "id": "2a3852f0-4e7a-4f9d-bc1f-07045c11c814",
   "metadata": {},
   "outputs": [],
   "source": [
    "mw_plus = wy.RWY(molecule, dm_plus)\n",
    "mw_plus.guide = guide\n",
    "mw_plus.tol = 1e-6\n",
    "mw_plus.method = 'trust-exact'\n",
    "mw_plus.reg = regularization\n",
    "#pb_plus = pyscf.dft.numint.eval_ao(mw_plus.pmol, coords)\n",
    "mw_plus.run()\n",
    "vc_plus = np.einsum('t,rt->r', mw_plus.b, pb)"
   ]
  },
  {
   "cell_type": "code",
   "execution_count": 44,
   "id": "3a13c39d-cd3b-4e9e-8025-9e4daa44ab06",
   "metadata": {},
   "outputs": [],
   "source": [
    "mw_minus = wy.RWY(molecule, dm_minus)\n",
    "mw_minus.guide = guide\n",
    "mw_minus.tol = 1e-6\n",
    "mw_minus.method = 'trust-exact'\n",
    "mw_minus.reg = regularization # 0\n",
    "#pb_minus = pyscf.dft.numint.eval_ao(mw_minus.pmol, coords)\n",
    "mw_minus.run()\n",
    "vc_minus = np.einsum('t,rt->r', mw_minus.b, pb)"
   ]
  },
  {
   "cell_type": "code",
   "execution_count": 45,
   "id": "93e07e5f-d063-44e5-bc78-b8355420d6a2",
   "metadata": {},
   "outputs": [],
   "source": [
    "ao_values = pyscf.dft.numint.eval_ao(molecule, coords,\n",
    "                                     deriv = 0)"
   ]
  },
  {
   "cell_type": "code",
   "execution_count": 46,
   "id": "01147157-3a07-49a3-97b7-51f2ef35ccef",
   "metadata": {},
   "outputs": [
    {
     "name": "stdout",
     "output_type": "stream",
     "text": [
      "[[0. 0. 0. ... 0. 0. 0.]\n",
      " [0. 0. 0. ... 0. 0. 0.]\n",
      " [0. 0. 0. ... 0. 0. 0.]\n",
      " ...\n",
      " [0. 0. 0. ... 0. 0. 0.]\n",
      " [0. 0. 0. ... 0. 0. 0.]\n",
      " [0. 0. 0. ... 0. 0. 0.]]\n"
     ]
    }
   ],
   "source": [
    "print(ao_values - pb)"
   ]
  },
  {
   "cell_type": "code",
   "execution_count": 47,
   "id": "4b064422-28b9-4636-bf32-04530ecb61c4",
   "metadata": {},
   "outputs": [],
   "source": [
    "delta_rho_on_grid_x = pyscf.dft.numint.eval_rho(molecule, pb,\n",
    "                                                delta_rho, xctype='LDA')"
   ]
  },
  {
   "cell_type": "code",
   "execution_count": 48,
   "id": "023309a4-d0d0-495c-8456-5c9b7093a3b5",
   "metadata": {},
   "outputs": [],
   "source": [
    "drho = np.einsum(\"mn,gm,gn->g\", delta_rho, ao_values, ao_values)"
   ]
  },
  {
   "cell_type": "code",
   "execution_count": 49,
   "id": "604df593-10e2-41b2-91d3-535d82b8a44a",
   "metadata": {},
   "outputs": [
    {
     "name": "stdout",
     "output_type": "stream",
     "text": [
      "[0. 0. 0. ... 0. 0. 0.]\n"
     ]
    }
   ],
   "source": [
    "print(delta_rho_on_grid_x - drho)"
   ]
  },
  {
   "cell_type": "code",
   "execution_count": 50,
   "id": "ece41933-6fe9-4d70-836f-0172ad1d1071",
   "metadata": {},
   "outputs": [],
   "source": [
    "#delta_rho_on_grid_x"
   ]
  },
  {
   "cell_type": "code",
   "execution_count": 51,
   "id": "e6b4e882-b819-40b9-9d9b-292f7665187f",
   "metadata": {},
   "outputs": [],
   "source": [
    "fxc_symm = (vg_plus[0] + vc_plus - vg_minus[0] - vc_minus) / ( 2 * delta_rho_on_grid_x )"
   ]
  },
  {
   "cell_type": "code",
   "execution_count": 52,
   "id": "0a6078d9-0833-47af-9256-ce311bebf00b",
   "metadata": {},
   "outputs": [],
   "source": [
    "# plt.figure()\n",
    "\n",
    "# if xctype == \"GGA\":\n",
    "#     plt.plot(coords[:,0], vg_plus, label=\"vg+\")\n",
    "#     plt.plot(coords[:,0], vg_minus, label=\"vg-\")\n",
    "\n",
    "#     plt.plot(coords[:,0], vc_plus, label=\"vc+\")\n",
    "# else:\n",
    "#     #plt.plot(coords[:,0], vg_plus[0] - vg_minus[0], label=\"vg+ - vg-\")\n",
    "#     plt.plot(coords[:,0], vc_plus - vc_minus, label=\"vc+ - vc-\")\n",
    "\n",
    "# plt.xlabel(\"x\")\n",
    "# plt.ylabel(\"diff vx(r)\")\n",
    "# plt.xlim(0, 3)\n",
    "# # plt.ylim(-5, 0)\n",
    "# plt.legend()\n",
    "# plt.subplots_adjust(left=0.2, right=0.93, bottom=0.12, top=0.97)\n",
    "# plt.show()"
   ]
  },
  {
   "cell_type": "code",
   "execution_count": 53,
   "id": "7f510688-fae6-41b1-b27f-28e514519d46",
   "metadata": {},
   "outputs": [],
   "source": [
    "# if xctype == 'LDA':\n",
    "#     fxc_analytical = ( -1.0/3.0 * ( 3.0 / np.pi )**(1.0/3.0) \n",
    "#                   * dm_on_grid**(-2.0/3.0) \n",
    "#                  )\n",
    "grid = pyscf_drv.grids.copy()\n",
    "grid.coords = coords\n",
    "grid.weights = np.ones((coords.shape[0]))\n",
    "fxc_pyscf = ni.cache_xc_kernel1(molecule, grid, pyscf_drv.xc, dm_0, spin=0)[2]"
   ]
  },
  {
   "cell_type": "code",
   "execution_count": 54,
   "id": "1b272689-5042-4d09-9710-c90d1aa8a327",
   "metadata": {},
   "outputs": [
    {
     "data": {
      "text/plain": [
       "(4, 4, 5001)"
      ]
     },
     "execution_count": 54,
     "metadata": {},
     "output_type": "execute_result"
    }
   ],
   "source": [
    "fxc_pyscf.shape"
   ]
  },
  {
   "cell_type": "code",
   "execution_count": 55,
   "id": "fcf0e355-7008-4e54-82e8-ae47fb04128a",
   "metadata": {},
   "outputs": [],
   "source": [
    "# np.save(\"n2_cc_pvtz_Slater_num_fxc.npy\", fxc_symm)\n",
    "#slater_fxc = np.load(\"n2_cc_pvtz_Slater_num_fxc.npy\")"
   ]
  },
  {
   "cell_type": "code",
   "execution_count": 58,
   "id": "b0109794-2012-4a4f-b5c1-cecd060da150",
   "metadata": {},
   "outputs": [
    {
     "data": {
      "image/png": "[encoded data removed]",
      "text/plain": [
       "<Figure size 640x480 with 1 Axes>"
      ]
     },
     "metadata": {},
     "output_type": "display_data"
    }
   ],
   "source": [
    "plt.figure()\n",
    "\n",
    "#print(pyscf_drv.xc, xctype)\n",
    "\n",
    "plt.plot(coords[:,0], fxc_symm, label=\"fxc symm\")\n",
    "#plt.plot(coords[:, 0], slater_fxc, label=\"Slater num fxc\")\n",
    "\n",
    "plt.plot(coords[:,0], fxc_pyscf[0, 0], \"-.\", label=\"PyScf fxc(rho, rho)\")\n",
    "#plt.plot(coords[:,0], np.sum(np.sum(fxc_pyscf, axis=0), axis=0), \"--\", label=\"PyScf sum\")\n",
    "\n",
    "plt.xlabel(\"x\")\n",
    "plt.ylabel(\"fxc(r)\")\n",
    "# plt.xlim(-5, 5)\n",
    "plt.ylim(-100, 100)\n",
    "plt.legend()\n",
    "plt.subplots_adjust(left=0.2, right=0.93, bottom=0.12, top=0.97)\n",
    "plt.show()"
   ]
  },
  {
   "cell_type": "code",
   "execution_count": 40,
   "id": "93476304-3125-4f2b-bebb-0ad9ec7930fb",
   "metadata": {
    "jupyter": {
     "source_hidden": true
    }
   },
   "outputs": [
    {
     "ename": "NameError",
     "evalue": "name 'slater_fxc' is not defined",
     "output_type": "error",
     "traceback": [
      "\u001b[0;31m---------------------------------------------------------------------------\u001b[0m",
      "\u001b[0;31mNameError\u001b[0m                                 Traceback (most recent call last)",
      "Cell \u001b[0;32mIn[40], line 6\u001b[0m\n\u001b[1;32m      3\u001b[0m \u001b[38;5;66;03m#print(pyscf_drv.xc, xctype)\u001b[39;00m\n\u001b[1;32m      5\u001b[0m plt\u001b[38;5;241m.\u001b[39mplot(coords[:,\u001b[38;5;241m0\u001b[39m], fxc_symm, label\u001b[38;5;241m=\u001b[39m\u001b[38;5;124m\"\u001b[39m\u001b[38;5;124mfxc symm\u001b[39m\u001b[38;5;124m\"\u001b[39m)\n\u001b[0;32m----> 6\u001b[0m plt\u001b[38;5;241m.\u001b[39mplot(coords[:, \u001b[38;5;241m0\u001b[39m], \u001b[43mslater_fxc\u001b[49m, label\u001b[38;5;241m=\u001b[39m\u001b[38;5;124m\"\u001b[39m\u001b[38;5;124mSlater num fxc\u001b[39m\u001b[38;5;124m\"\u001b[39m)\n\u001b[1;32m      7\u001b[0m \u001b[38;5;28;01mif\u001b[39;00m xctype \u001b[38;5;241m==\u001b[39m \u001b[38;5;124m'\u001b[39m\u001b[38;5;124mLDA\u001b[39m\u001b[38;5;124m'\u001b[39m:\n\u001b[1;32m      8\u001b[0m     plt\u001b[38;5;241m.\u001b[39mplot(coords[:,\u001b[38;5;241m0\u001b[39m], fxc_analytical, \u001b[38;5;124m\"\u001b[39m\u001b[38;5;124m--\u001b[39m\u001b[38;5;124m\"\u001b[39m, label\u001b[38;5;241m=\u001b[39m\u001b[38;5;124m\"\u001b[39m\u001b[38;5;124manalytical fxc\u001b[39m\u001b[38;5;124m\"\u001b[39m)\n",
      "\u001b[0;31mNameError\u001b[0m: name 'slater_fxc' is not defined"
     ]
    },
    {
     "data": {
      "image/png": "[encoded data removed]",
      "text/plain": [
       "<Figure size 640x480 with 1 Axes>"
      ]
     },
     "metadata": {},
     "output_type": "display_data"
    }
   ],
   "source": [
    "plt.figure()\n",
    "\n",
    "#print(pyscf_drv.xc, xctype)\n",
    "\n",
    "plt.plot(coords[:,0], fxc_symm, label=\"fxc symm\")\n",
    "plt.plot(coords[:, 0], slater_fxc, label=\"Slater num fxc\")\n",
    "if xctype == 'LDA':\n",
    "    plt.plot(coords[:,0], fxc_analytical, \"--\", label=\"analytical fxc\")\n",
    "\n",
    "#plt.plot(coords[:,0], fxc_pyscf[0, 0], \"-.\", label=\"PyScf fxc(rho, rho)\")\n",
    "#plt.plot(coords[:,0], np.sum(np.sum(fxc_pyscf, axis=0), axis=0), \"--\", label=\"PyScf sum\")\n",
    "\n",
    "plt.xlabel(\"x\")\n",
    "plt.ylabel(\"fxc(r)\")\n",
    "# plt.xlim(-5, 5)\n",
    "# plt.ylim(-5, 0)\n",
    "plt.legend()\n",
    "plt.subplots_adjust(left=0.2, right=0.93, bottom=0.12, top=0.97)\n",
    "plt.show()"
   ]
  },
  {
   "cell_type": "markdown",
   "id": "94454773-68ac-4111-a8a0-10f9b57d97b2",
   "metadata": {},
   "source": [
    "# Full DFT grid and absorption"
   ]
  },
  {
   "cell_type": "code",
   "execution_count": 41,
   "id": "76226bb3-3e94-409b-a6b1-0139bd2543a2",
   "metadata": {},
   "outputs": [
    {
     "ename": "NameError",
     "evalue": "name 'xc_pyscf_drv' is not defined",
     "output_type": "error",
     "traceback": [
      "\u001b[0;31m---------------------------------------------------------------------------\u001b[0m",
      "\u001b[0;31mNameError\u001b[0m                                 Traceback (most recent call last)",
      "Cell \u001b[0;32mIn[41], line 1\u001b[0m\n\u001b[0;32m----> 1\u001b[0m ao_values \u001b[38;5;241m=\u001b[39m pyscf\u001b[38;5;241m.\u001b[39mdft\u001b[38;5;241m.\u001b[39mnumint\u001b[38;5;241m.\u001b[39meval_ao(molecule, \u001b[43mxc_pyscf_drv\u001b[49m\u001b[38;5;241m.\u001b[39mgrids\u001b[38;5;241m.\u001b[39mcoords)\n",
      "\u001b[0;31mNameError\u001b[0m: name 'xc_pyscf_drv' is not defined"
     ]
    }
   ],
   "source": [
    "ao_values = pyscf.dft.numint.eval_ao(molecule, pyscf_drv.grids.coords)"
   ]
  },
  {
   "cell_type": "code",
   "execution_count": 79,
   "id": "6540dbce-12f4-45ff-a57c-cf17ec71f806",
   "metadata": {},
   "outputs": [
    {
     "data": {
      "text/plain": [
       "NPArrayWithTag([[ 1.99985,  0.00165, -0.02202, ..., -0.00077,  0.     ,\n",
       "                  0.001  ],\n",
       "                [ 0.00165,  0.00002, -0.00166, ..., -0.00003,  0.     ,\n",
       "                  0.00005],\n",
       "                [-0.02202, -0.00166,  1.7233 , ...,  0.00398, -0.     ,\n",
       "                 -0.00513],\n",
       "                ...,\n",
       "                [-0.00077, -0.00003,  0.00398, ...,  0.00006, -0.     ,\n",
       "                 -0.00008],\n",
       "                [ 0.     ,  0.     , -0.     , ..., -0.     ,  0.00008,\n",
       "                 -0.     ],\n",
       "                [ 0.001  ,  0.00005, -0.00513, ..., -0.00008, -0.     ,\n",
       "                  0.0001 ]])"
      ]
     },
     "execution_count": 79,
     "metadata": {},
     "output_type": "execute_result"
    }
   ],
   "source": [
    "dm_0"
   ]
  },
  {
   "cell_type": "code",
   "execution_count": 51,
   "id": "b5f70cfc-2e41-4549-b450-2bc028a096cd",
   "metadata": {},
   "outputs": [
    {
     "name": "stdout",
     "output_type": "stream",
     "text": [
      "LDA\n"
     ]
    }
   ],
   "source": [
    "if xctype == 'GGA':\n",
    "    print(xctype)\n",
    "    vg_plus = util.eval_vxc(molecule, dm_plus, mw.guide, pyscf_drv.grids.coords) # guiding potential on grid\n",
    "    vg_minus = util.eval_vxc(molecule, dm_minus, mw.guide, pyscf_drv.grids.coords) # guiding potential on grid\n",
    "else:\n",
    "    print(xctype)\n",
    "    dm_plus_on_grid = pyscf.dft.numint.eval_rho(molecule, ao_values,\n",
    "                                           dm_plus, xctype='LDA')\n",
    "    dm_minus_on_grid = pyscf.dft.numint.eval_rho(molecule, ao_values,\n",
    "                                           dm_minus, xctype='LDA')\n",
    "    vg_plus = ni.eval_xc_eff(xc_pyscf_drv.xc, dm_plus_on_grid, deriv=1)[1]\n",
    "    vg_minus = ni.eval_xc_eff(xc_pyscf_drv.xc, dm_minus_on_grid, deriv=1)[1]"
   ]
  },
  {
   "cell_type": "code",
   "execution_count": 52,
   "id": "6dec4c03-92c7-4f1f-b42a-19145f2370dd",
   "metadata": {},
   "outputs": [],
   "source": [
    "delta_rho_on_grid = pyscf.dft.numint.eval_rho(molecule, ao_values,\n",
    "                                              delta_rho, xctype='LDA')\n",
    "dm_on_full_grid = pyscf.dft.numint.eval_rho(molecule, ao_values,\n",
    "                                            dm_0, xctype='LDA')"
   ]
  },
  {
   "cell_type": "code",
   "execution_count": 53,
   "id": "aa3d98cc-689a-48e0-b678-4346925b0099",
   "metadata": {},
   "outputs": [],
   "source": [
    "if xctype == 'LDA':\n",
    "    fxc_analytical_full = ( -1.0/3.0 * ( 3.0 / np.pi )**(1.0/3.0) \n",
    "                  * dm_on_full_grid**(-2.0/3.0) \n",
    "                 )"
   ]
  },
  {
   "cell_type": "code",
   "execution_count": 54,
   "id": "dab4fbe3-9bf8-4c69-b8cb-dd57442391b7",
   "metadata": {},
   "outputs": [],
   "source": [
    "vc_plus = np.einsum('t,rt->r', mw_plus.b, ao_values)\n",
    "vc_minus = np.einsum('t,rt->r', mw_minus.b, ao_values)"
   ]
  },
  {
   "cell_type": "code",
   "execution_count": 55,
   "id": "fa75326d-6e84-43df-9943-fda54d253714",
   "metadata": {},
   "outputs": [
    {
     "name": "stdout",
     "output_type": "stream",
     "text": [
      "(1, 108592) (108592,) (1, 108592) (108592,) (108592,)\n"
     ]
    }
   ],
   "source": [
    "print(vg_plus.shape, vc_plus.shape, vg_minus.shape, vc_minus.shape, delta_rho_on_grid.shape)"
   ]
  },
  {
   "cell_type": "code",
   "execution_count": 56,
   "id": "48abfd78-0c14-49a5-b148-7747037c458e",
   "metadata": {},
   "outputs": [
    {
     "name": "stdout",
     "output_type": "stream",
     "text": [
      "LDA (1, 108592) (108592,) (1, 108592) (108592,) (108592,)\n"
     ]
    }
   ],
   "source": [
    "if xctype == 'LDA':\n",
    "    print(xctype, vg_plus.shape, vc_plus.shape, vg_minus.shape, vc_minus.shape, delta_rho_on_grid.shape)\n",
    "    fxc_symm_full = (vg_plus[0] + vc_plus - vg_minus[0] - vc_minus) / (2 * delta_rho_on_grid)\n",
    "else:\n",
    "    print(xctype, vg_plus.shape, vc_plus.shape, vg_minus.shape, vc_minus.shape, delta_rho_on_grid.shape)\n",
    "    fxc_symm_full = (vg_plus + vc_plus - vg_minus - vc_minus) / (2 * delta_rho_on_grid)"
   ]
  },
  {
   "cell_type": "code",
   "execution_count": 57,
   "id": "09059578-1489-4674-874b-d36620093040",
   "metadata": {},
   "outputs": [
    {
     "name": "stdout",
     "output_type": "stream",
     "text": [
      "0.00030918305904537036\n"
     ]
    }
   ],
   "source": [
    "print(np.max(np.abs(vg_plus + vc_plus - vg_minus - vc_minus)))"
   ]
  },
  {
   "cell_type": "code",
   "execution_count": 58,
   "id": "f608ef7d-5ae8-4803-80a8-60cd344f9aaa",
   "metadata": {},
   "outputs": [
    {
     "name": "stdout",
     "output_type": "stream",
     "text": [
      "['/home/emi/miniconda3/envs/wu-yang-env/lib/python3.9/site-packages/pyscf']\n",
      "User defined fxc: None\n"
     ]
    }
   ],
   "source": [
    "diag_dict = xray_help.absorption_by_E2_matrix_diagonalization(molecule, pyscf_drv, tda=True)"
   ]
  },
  {
   "cell_type": "code",
   "execution_count": 59,
   "id": "2c3fad46-6d29-4787-97b8-3b6a3fbaf174",
   "metadata": {},
   "outputs": [
    {
     "data": {
      "text/plain": [
       "(108592,)"
      ]
     },
     "execution_count": 59,
     "metadata": {},
     "output_type": "execute_result"
    }
   ],
   "source": [
    "fxc_symm_full.shape"
   ]
  },
  {
   "cell_type": "code",
   "execution_count": 60,
   "id": "71bcaf0b-0ae7-414a-9cb6-774eb0751f0d",
   "metadata": {},
   "outputs": [
    {
     "name": "stdout",
     "output_type": "stream",
     "text": [
      "['/home/emi/miniconda3/envs/wu-yang-env/lib/python3.9/site-packages/pyscf']\n",
      "User defined fxc: [ -2260107.71575918  -6656706.96120614 -24621953.20182044 ...\n",
      " -24134490.55710226 -24134490.55648264 -25421328.67085864]\n"
     ]
    }
   ],
   "source": [
    "correction = 1.0\n",
    "diag_dict_num = xray_help.absorption_by_E2_matrix_diagonalization(molecule, pyscf_drv, tda=True, fxc=correction*fxc_symm_full)"
   ]
  },
  {
   "cell_type": "code",
   "execution_count": 61,
   "id": "7e441157-e36d-4a67-8c9e-98211c8341e5",
   "metadata": {},
   "outputs": [
    {
     "name": "stdout",
     "output_type": "stream",
     "text": [
      "['/home/emi/miniconda3/envs/wu-yang-env/lib/python3.9/site-packages/pyscf']\n",
      "User defined fxc: [  -740025.65313811  -2796960.34311533 -13127665.54434882 ...\n",
      " -13165045.04840162 -13165045.04840172 -13014643.61907135]\n"
     ]
    }
   ],
   "source": [
    "if xctype == 'LDA':\n",
    "    diag_dict_analytic = xray_help.absorption_by_E2_matrix_diagonalization(molecule, pyscf_drv, tda=True, fxc=fxc_analytical_full)"
   ]
  },
  {
   "cell_type": "code",
   "execution_count": 62,
   "id": "2d1479b1-e9c7-454a-803b-f9119536d955",
   "metadata": {},
   "outputs": [],
   "source": [
    "E2_num = diag_dict_num['E2']\n",
    "E2 = diag_dict['E2']\n",
    "if xctype == 'LDA':\n",
    "    E2_ana = diag_dict_analytic['E2']"
   ]
  },
  {
   "cell_type": "code",
   "execution_count": 63,
   "id": "ab482bcc-48d3-4c7d-af4f-db8cfe9a9206",
   "metadata": {},
   "outputs": [
    {
     "data": {
      "image/png": "[encoded data removed]",
      "text/plain": [
       "<Figure size 480x480 with 2 Axes>"
      ]
     },
     "metadata": {},
     "output_type": "display_data"
    }
   ],
   "source": [
    "if E2.shape[0] < 20:\n",
    "    fig, ax = plt.subplots()\n",
    "    ax.matshow(E2)\n",
    "    for (i, j), z in np.ndenumerate(E2):\n",
    "        ax.text(j, i, '{:0.1f}'.format(z), ha='center', va='center')\n",
    "else:\n",
    "    plt.matshow(E2)\n",
    "    plt.colorbar()\n",
    "plt.show()"
   ]
  },
  {
   "cell_type": "code",
   "execution_count": 64,
   "id": "3306e362-f24a-4539-8a22-c8d8e74de8cc",
   "metadata": {},
   "outputs": [
    {
     "data": {
      "image/png": "[encoded data removed]",
      "text/plain": [
       "<Figure size 480x480 with 2 Axes>"
      ]
     },
     "metadata": {},
     "output_type": "display_data"
    }
   ],
   "source": [
    "if E2_num.shape[0] < 20:\n",
    "    fig, ax = plt.subplots()\n",
    "    ax.matshow(E2_num)\n",
    "    for (i, j), z in np.ndenumerate(E2_num):\n",
    "        ax.text(j, i, '{:0.1f}'.format(z), ha='center', va='center')\n",
    "else:\n",
    "    plt.matshow(E2_num)\n",
    "    plt.colorbar()\n",
    "plt.show()"
   ]
  },
  {
   "cell_type": "code",
   "execution_count": 65,
   "id": "d7c5e3b3-ad5b-45b1-93b9-8803751ed4c9",
   "metadata": {},
   "outputs": [
    {
     "data": {
      "image/png": "[encoded data removed]",
      "text/plain": [
       "<Figure size 480x480 with 2 Axes>"
      ]
     },
     "metadata": {},
     "output_type": "display_data"
    }
   ],
   "source": [
    "if xctype == 'LDA':\n",
    "    if E2_ana.shape[0] < 20:\n",
    "        fig, ax = plt.subplots()\n",
    "        ax.matshow(E2_ana)\n",
    "        for (i, j), z in np.ndenumerate(E2_ana):\n",
    "            ax.text(j, i, '{:0.1f}'.format(z), ha='center', va='center')\n",
    "    else:\n",
    "        plt.matshow(E2_ana)\n",
    "        plt.colorbar()\n",
    "    plt.show()"
   ]
  },
  {
   "cell_type": "code",
   "execution_count": 66,
   "id": "28607b75-6238-472b-8481-3567928e82f4",
   "metadata": {},
   "outputs": [
    {
     "name": "stdout",
     "output_type": "stream",
     "text": [
      "Help on function absorption_spectrum_tdscf in module xray_help:\n",
      "\n",
      "absorption_spectrum_tdscf(scf_gs, nstates=5, cvs_space=None, tda=False)\n",
      "    Computes the absorption spectrum using TDDFT.\n",
      "    \n",
      "    WARNING: The CVS approximation only works with\n",
      "             a restricted reference state.\n",
      "    \n",
      "    :param scf_gs   : the SCF reference state (for CVS, restricted only).\n",
      "    :param nstates  : the number of transitions (roots).\n",
      "    :param tda      : if to use the Tamm-Dancoff approximation.\n",
      "    :param cvs_space: a list of core orbital indices\n",
      "                      for the CVS approximation.\n",
      "\n"
     ]
    }
   ],
   "source": [
    "help(xray_help.absorption_spectrum_tdscf)"
   ]
  },
  {
   "cell_type": "code",
   "execution_count": 67,
   "id": "1dfe7e7b-a15b-42c2-bf49-7711b3bb8587",
   "metadata": {
    "scrolled": true
   },
   "outputs": [],
   "source": [
    "# tda_drv = pyscf.tdscf.TDA(pyscf_drv)\n",
    "# tda_drv.nstates = 30\n",
    "# tda_results = tda_drv.kernel()"
   ]
  },
  {
   "cell_type": "code",
   "execution_count": 68,
   "id": "884746a9-91c5-428d-8d73-9b10914ef551",
   "metadata": {
    "scrolled": true
   },
   "outputs": [],
   "source": [
    "# tda_drv.analyze()"
   ]
  },
  {
   "cell_type": "code",
   "execution_count": 69,
   "id": "886b197c-fab7-4f91-87c4-29313d435de4",
   "metadata": {
    "scrolled": true
   },
   "outputs": [
    {
     "name": "stdout",
     "output_type": "stream",
     "text": [
      "8.515676138250873 3.412162427803735e-30\n"
     ]
    }
   ],
   "source": [
    "index = 0\n",
    "print(diag_dict['eigenvalues'][index] * xray_help.hartree_in_ev(), diag_dict['oscillator strengths'][index])"
   ]
  },
  {
   "cell_type": "code",
   "execution_count": 70,
   "id": "d24c6868-4223-44d5-b535-8ff1d91511a0",
   "metadata": {
    "scrolled": true
   },
   "outputs": [
    {
     "name": "stdout",
     "output_type": "stream",
     "text": [
      "[0.      0.      0.      0.      0.      0.21486 0.21486 1.27799 0.76681\n",
      " 0.      0.      0.      0.      0.      0.      0.14866 0.14866 0.248\n",
      " 0.248   0.29895 0.29895 0.      0.      0.      0.      0.      0.\n",
      " 0.      0.00515 0.      0.20443 0.      0.      0.      0.      0.0278\n",
      " 0.      0.      0.14182 0.14182 0.      0.      0.      0.      0.05767\n",
      " 0.      0.      0.      1.33726 1.33726 0.      0.      1.19238 0.\n",
      " 0.      0.      0.      0.88187 0.88187 0.      0.27528 0.33584 0.33584\n",
      " 0.      0.      0.      0.      0.      0.      0.      0.      0.\n",
      " 0.      0.      0.      0.      0.      0.43077 0.      0.      0.03887\n",
      " 0.03887 0.      0.      0.      0.18211 0.      0.      0.      0.2141\n",
      " 0.00006 0.00006 0.0197  0.19106 0.19106 0.      0.      0.03673 0.\n",
      " 0.      0.      0.      0.      0.      0.18748 0.      0.      0.\n",
      " 0.06613 0.06613 0.      0.      0.      0.0048  0.0048  0.      0.11355\n",
      " 0.      0.      0.      0.      0.      0.0132  0.18183 0.18183 0.\n",
      " 0.      0.      0.      0.00659 0.00659 0.      0.      0.00239 0.\n",
      " 0.      0.      0.      0.      0.      0.05727 0.05727 0.      0.\n",
      " 0.      0.      0.      0.      0.      0.10246 0.10246 0.      0.\n",
      " 0.      0.      0.      0.      0.      0.0201  0.0201  0.      0.\n",
      " 0.      0.      0.      0.      0.      0.00149 0.      0.      0.02715\n",
      " 0.      0.      0.      0.      0.0115  0.0115  0.      0.      0.\n",
      " 0.      0.      0.      0.08969 0.08969 0.      0.      0.      0.\n",
      " 0.      0.      0.      0.06236 0.      0.      0.05636 0.05636 0.\n",
      " 0.      0.      0.      0.02778 0.      0.      0.      0.      0.\n",
      " 0.      0.      0.      0.      0.      0.      0.      0.      0.\n",
      " 0.      0.      0.00713 0.00713 0.      0.      0.      0.      0.02498\n",
      " 0.02498 0.      0.      0.      0.      0.      0.      0.      0.00702\n",
      " 0.02747 0.      0.      0.      0.      0.02577 0.00117 0.00117 0.\n",
      " 0.      0.      0.      0.      0.01715 0.      0.      0.007   0.00076\n",
      " 0.00076 0.      0.00053 0.00053 0.01678 0.      0.      0.      0.21718\n",
      " 0.21718 0.      0.      0.      0.01463 0.      0.      0.05875 0.05875\n",
      " 0.16566 0.      0.00416 0.      0.0149  0.0149  0.      0.      0.\n",
      " 0.03996 0.      0.      0.      0.      0.      0.00289 0.      0.\n",
      " 0.00309 0.00309 0.      0.      0.      0.      0.      0.      0.00327\n",
      " 0.      0.08635 0.      0.05265 0.05265 0.      0.      0.      0.05339\n",
      " 0.00477 0.      0.      0.33427 0.33427 0.12777 0.      0.021   0.021\n",
      " 0.      0.      0.      0.04991 0.      0.      0.      0.      0.\n",
      " 0.      0.00288 0.00288 0.      0.      0.      0.      0.00601 0.\n",
      " 0.      0.      0.      0.      0.      0.      0.      0.      0.00669\n",
      " 0.00669 0.      0.      0.      0.00047 0.      0.      0.      0.\n",
      " 0.      0.      0.      0.      0.      0.      0.00057 0.00057 0.02349\n",
      " 0.      0.      0.02687 0.00415 0.00415 0.      0.      0.05513 0.\n",
      " 0.      0.00583]\n"
     ]
    }
   ],
   "source": [
    "np.set_printoptions(suppress=True, precision=5)\n",
    "print(diag_dict['oscillator strengths'])"
   ]
  },
  {
   "cell_type": "code",
   "execution_count": 71,
   "id": "6572a254-5e60-4590-802b-fcb38500d2e2",
   "metadata": {
    "scrolled": true
   },
   "outputs": [
    {
     "data": {
      "text/plain": [
       "array([ 0.31295,  0.33348,  0.33348,  0.36834,  0.36834,  0.58114,\n",
       "        0.58114,  0.60312,  0.75521,  0.76068,  0.76068,  0.81368,\n",
       "        0.81368,  0.81519,  0.82068,  0.83975,  0.83975,  0.8604 ,\n",
       "        0.8604 ,  0.91092,  0.91092,  0.93355,  0.9403 ,  0.9403 ,\n",
       "        0.9812 ,  0.98877,  0.98877,  0.99083,  1.01865,  1.02951,\n",
       "        1.03983,  1.06563,  1.06563,  1.10546,  1.10546,  1.14214,\n",
       "        1.16856,  1.16856,  1.182  ,  1.182  ,  1.22802,  1.22802,\n",
       "        1.2641 ,  1.2641 ,  1.30928,  1.32   ,  1.32   ,  1.32921,\n",
       "        1.34985,  1.34985,  1.41548,  1.41548,  1.42463,  1.51854,\n",
       "        1.52436,  1.52436,  1.5245 ,  1.59919,  1.59919,  1.61457,\n",
       "        1.63813,  1.68091,  1.68091,  1.70905,  1.70905,  1.71031,\n",
       "        1.71031,  1.72744,  1.75324,  1.7662 ,  1.7662 ,  1.77535,\n",
       "        1.77535,  1.83979,  1.83979,  1.91613,  1.91613,  1.96708,\n",
       "        2.06351,  2.06351,  2.15859,  2.15859,  2.16137,  2.16137,\n",
       "        2.16788,  2.16887,  2.20004,  2.20004,  2.20248,  2.21561,\n",
       "        2.32032,  2.32032,  2.33838,  2.39013,  2.39013,  2.39022,\n",
       "        2.39022,  2.49677,  2.54493,  2.54493,  2.59338,  2.99933,\n",
       "        2.99992,  2.99992,  3.24807,  3.25068,  3.25068,  3.25285,\n",
       "        3.25749,  3.25749,  3.33422,  3.38368,  3.38368,  3.39947,\n",
       "        3.39947,  3.52361,  3.583  ,  3.5965 ,  3.5965 ,  3.6022 ,\n",
       "        3.69281,  3.69281,  3.69652,  3.79952,  3.79952,  3.89825,\n",
       "        3.89825,  3.92026,  3.92026,  3.96824,  3.96824,  3.97096,\n",
       "        3.97096,  3.97418,  4.0435 ,  4.0435 ,  4.05017,  4.06059,\n",
       "        4.06372,  4.06372,  4.06441,  4.06441,  4.09896,  4.09896,\n",
       "        4.1263 ,  4.12655,  4.12655,  4.13357,  4.13357,  4.14678,\n",
       "        4.14678,  4.24058,  4.24272,  4.24272,  4.27588,  4.27588,\n",
       "        4.39156,  4.39156,  4.47318,  4.47318,  4.55756,  4.55756,\n",
       "        4.57526,  4.59654,  4.59654,  4.64   ,  4.64   ,  4.6551 ,\n",
       "        4.72625,  4.72625,  4.73524,  4.74861,  4.74861,  4.83495,\n",
       "        4.83495,  4.84811,  4.84811,  4.84963,  4.84963,  4.89588,\n",
       "        4.89588,  4.91366,  4.91366,  4.93454,  4.93454,  4.97888,\n",
       "        4.97888,  4.99118,  4.99118,  5.00999,  5.00999,  5.01737,\n",
       "        5.04739,  5.07719,  5.07719,  5.15465,  5.15465,  5.15828,\n",
       "        5.15828,  5.16939,  5.16939,  5.18371,  5.23363,  5.23363,\n",
       "        5.28239,  5.33388,  5.37352,  5.37352,  5.4246 ,  5.4246 ,\n",
       "        5.43903,  5.43903,  5.47032,  5.47032,  5.52262,  5.52262,\n",
       "        5.53867,  5.55551,  5.6074 ,  5.6074 ,  5.62386,  5.62386,\n",
       "        5.6772 ,  5.6772 ,  5.69905,  5.69905,  5.7019 ,  5.7019 ,\n",
       "        5.73947,  5.79393,  5.79393,  5.87889,  5.87889,  5.89019,\n",
       "        5.98742,  6.22413,  6.22413,  6.23359,  6.23359,  6.30468,\n",
       "        6.34642,  6.34642,  6.45686,  6.52195,  6.93361,  6.93361,\n",
       "        6.94579,  6.95486,  6.98095,  6.98095,  7.01656,  7.04969,\n",
       "        7.04969,  7.09639,  7.14542,  7.14542,  7.2789 ,  7.72682,\n",
       "        7.72682,  7.84233, 15.14977, 15.14977, 15.1508 , 15.1508 ,\n",
       "       15.7162 , 15.71725, 15.77461, 15.77461, 15.77725, 15.77725,\n",
       "       15.81083, 15.81279, 15.8531 , 15.85662, 16.03615, 16.03615,\n",
       "       16.03816, 16.03816, 16.05296, 16.05341, 16.20904, 16.20904,\n",
       "       16.21227, 16.21227, 16.3255 , 16.32876, 16.49896, 16.49896,\n",
       "       16.5023 , 16.5023 , 16.74411, 16.74411, 16.74734, 16.74734,\n",
       "       16.76179, 16.76179, 16.77304, 16.97023, 17.05881, 17.06308,\n",
       "       17.15407, 17.15407, 17.15684, 17.15684, 17.3563 , 17.35679,\n",
       "       17.54303, 17.91967, 17.91967, 17.92425, 17.92425, 18.23551,\n",
       "       18.24114, 18.6297 , 18.6297 , 18.6313 , 18.6313 , 18.76855,\n",
       "       18.77057, 18.86401, 18.86401, 18.86743, 18.86743, 18.91309,\n",
       "       18.91309, 18.91657, 18.91657, 18.99071, 18.99071, 18.99359,\n",
       "       18.99359, 19.30013, 19.30317, 19.48113, 19.48113, 19.48199,\n",
       "       19.48199, 19.59409, 19.59409, 19.59697, 19.59697, 19.82222,\n",
       "       19.82222, 19.82443, 19.82443, 20.08706, 20.09011, 20.09383,\n",
       "       20.09383, 20.09463, 20.09463, 20.40579, 20.40579, 20.40919,\n",
       "       20.40919, 20.54106, 20.54106, 20.54366, 20.54366, 20.62014,\n",
       "       20.62381, 21.07146, 21.07373, 21.84648, 21.84648, 21.84993,\n",
       "       21.84993, 21.88512, 21.88897, 31.4976 , 31.50112])"
      ]
     },
     "execution_count": 71,
     "metadata": {},
     "output_type": "execute_result"
    }
   ],
   "source": [
    "diag_dict_num['eigenvalues']"
   ]
  },
  {
   "cell_type": "code",
   "execution_count": 72,
   "id": "8034e24e-2de4-416f-8604-6d8762b2138b",
   "metadata": {},
   "outputs": [
    {
     "name": "stdout",
     "output_type": "stream",
     "text": [
      "[ 0.31295  0.33348  0.33348  0.36834  0.36834  0.58114  0.58114  0.60312\n",
      "  0.75521  0.76068  0.76068  0.81368  0.81368  0.81519  0.82068  0.83975\n",
      "  0.83975  0.8604   0.8604   0.91092  0.91092  0.93355  0.9403   0.9403\n",
      "  0.9812   0.98877  0.98877  0.99083  1.01865  1.02951  1.03983  1.06563\n",
      "  1.06563  1.10546  1.10546  1.14214  1.16856  1.16856  1.182    1.182\n",
      "  1.22802  1.22802  1.2641   1.2641   1.30928  1.32     1.32     1.32921\n",
      "  1.34985  1.34985  1.41548  1.41548  1.42463  1.51854  1.52436  1.52436\n",
      "  1.5245   1.59919  1.59919  1.61457  1.63813  1.68091  1.68091  1.70905\n",
      "  1.70905  1.71031  1.71031  1.72744  1.75324  1.7662   1.7662   1.77535\n",
      "  1.77535  1.83979  1.83979  1.91613  1.91613  1.96708  2.06351  2.06351\n",
      "  2.15859  2.15859  2.16137  2.16137  2.16788  2.16887  2.20004  2.20004\n",
      "  2.20248  2.21561  2.32032  2.32032  2.33838  2.39013  2.39013  2.39022\n",
      "  2.39022  2.49677  2.54493  2.54493  2.59338  2.99933  2.99992  2.99992\n",
      "  3.24807  3.25068  3.25068  3.25285  3.25749  3.25749  3.33422  3.38368\n",
      "  3.38368  3.39947  3.39947  3.52361  3.583    3.5965   3.5965   3.6022\n",
      "  3.69281  3.69281  3.69652  3.79952  3.79952  3.89825  3.89825  3.92026\n",
      "  3.92026  3.96824  3.96824  3.97096  3.97096  3.97418  4.0435   4.0435\n",
      "  4.05017  4.06059  4.06372  4.06372  4.06441  4.06441  4.09896  4.09896\n",
      "  4.1263   4.12655  4.12655  4.13357  4.13357  4.14678  4.14678  4.24058\n",
      "  4.24272  4.24272  4.27588  4.27588  4.39156  4.39156  4.47318  4.47318\n",
      "  4.55756  4.55756  4.57526  4.59654  4.59654  4.64     4.64     4.6551\n",
      "  4.72625  4.72625  4.73524  4.74861  4.74861  4.83495  4.83495  4.84811\n",
      "  4.84811  4.84963  4.84963  4.89588  4.89588  4.91366  4.91366  4.93454\n",
      "  4.93454  4.97888  4.97888  4.99118  4.99118  5.00999  5.00999  5.01737\n",
      "  5.04739  5.07719  5.07719  5.15465  5.15465  5.15828  5.15828  5.16939\n",
      "  5.16939  5.18371  5.23363  5.23363  5.28239  5.33388  5.37352  5.37352\n",
      "  5.4246   5.4246   5.43903  5.43903  5.47032  5.47032  5.52262  5.52262\n",
      "  5.53867  5.55551  5.6074   5.6074   5.62386  5.62386  5.6772   5.6772\n",
      "  5.69905  5.69905  5.7019   5.7019   5.73947  5.79393  5.79393  5.87889\n",
      "  5.87889  5.89019  5.98742  6.22413  6.22413  6.23359  6.23359  6.30468\n",
      "  6.34642  6.34642  6.45686  6.52195  6.93361  6.93361  6.94579  6.95486\n",
      "  6.98095  6.98095  7.01656  7.04969  7.04969  7.09639  7.14542  7.14542\n",
      "  7.2789   7.72682  7.72682  7.84233 15.14977 15.14977 15.1508  15.1508\n",
      " 15.7162  15.71725 15.77461 15.77461 15.77725 15.77725 15.81083 15.81279\n",
      " 15.8531  15.85662 16.03615 16.03615 16.03816 16.03816 16.05296 16.05341\n",
      " 16.20904 16.20904 16.21227 16.21227 16.3255  16.32876 16.49896 16.49896\n",
      " 16.5023  16.5023  16.74411 16.74411 16.74734 16.74734 16.76179 16.76179\n",
      " 16.77304 16.97023 17.05881 17.06308 17.15407 17.15407 17.15684 17.15684\n",
      " 17.3563  17.35679 17.54303 17.91967 17.91967 17.92425 17.92425 18.23551\n",
      " 18.24114 18.6297  18.6297  18.6313  18.6313  18.76855 18.77057 18.86401\n",
      " 18.86401 18.86743 18.86743 18.91309 18.91309 18.91657 18.91657 18.99071\n",
      " 18.99071 18.99359 18.99359 19.30013 19.30317 19.48113 19.48113 19.48199\n",
      " 19.48199 19.59409 19.59409 19.59697 19.59697 19.82222 19.82222 19.82443\n",
      " 19.82443 20.08706 20.09011 20.09383 20.09383 20.09463 20.09463 20.40579\n",
      " 20.40579 20.40919 20.40919 20.54106 20.54106 20.54366 20.54366 20.62014\n",
      " 20.62381 21.07146 21.07373 21.84648 21.84648 21.84993 21.84993 21.88512\n",
      " 21.88897 31.4976  31.50112]\n"
     ]
    }
   ],
   "source": [
    "if xctype == 'LDA':\n",
    "    print(diag_dict_analytic['eigenvalues'])"
   ]
  },
  {
   "cell_type": "code",
   "execution_count": 73,
   "id": "cfc28b4e-5894-44da-a929-97cc1e4d5a0e",
   "metadata": {
    "scrolled": true
   },
   "outputs": [
    {
     "name": "stdout",
     "output_type": "stream",
     "text": [
      "0.0 (array([  0,   1,   2,   3,   4,   5,   6,   7,   8,   9,  10,  11,  12,\n",
      "        13,  14,  15,  16,  17,  18,  19,  20,  21,  22,  23,  24,  25,\n",
      "        26,  27,  28,  29,  30,  31,  32,  33,  34,  35,  36,  37,  38,\n",
      "        39,  40,  41,  42,  43,  44,  45,  46,  47,  48,  49,  50,  51,\n",
      "        52,  53,  54,  55,  56,  57,  58,  59,  60,  61,  62,  63,  64,\n",
      "        65,  66,  67,  68,  69,  70,  71,  72,  73,  74,  75,  76,  77,\n",
      "        78,  79,  80,  81,  82,  83,  84,  85,  86,  87,  88,  89,  90,\n",
      "        91,  92,  93,  94,  95,  96,  97,  98,  99, 100, 101, 102, 103,\n",
      "       104, 105, 106, 107, 108, 109, 110, 111, 112, 113, 114, 115, 116,\n",
      "       117, 118, 119, 120, 121, 122, 123, 124, 125, 126, 127, 128, 129,\n",
      "       130, 131, 132, 133, 134, 135, 136, 137, 138, 139, 140, 141, 142,\n",
      "       143, 144, 145, 146, 147, 148, 149, 150, 151, 152, 153, 154, 155,\n",
      "       156, 157, 158, 159, 160, 161, 162, 163, 164, 165, 166, 167, 168,\n",
      "       169, 170, 171, 172, 173, 174, 175, 176, 177, 178, 179, 180, 181,\n",
      "       182, 183, 184, 185, 186, 187, 188, 189, 190, 191, 192, 193, 194,\n",
      "       195, 196, 197, 198, 199, 200, 201, 202, 203, 204, 205, 206, 207,\n",
      "       208, 209, 210, 211, 212, 213, 214, 215, 216, 217, 218, 219, 220,\n",
      "       221, 222, 223, 224, 225, 226, 227, 228, 229, 230, 231, 232, 233,\n",
      "       234, 235, 236, 237, 238, 239, 240, 241, 242, 243, 244, 245, 246,\n",
      "       247, 248, 249, 250, 251, 252, 253, 254, 255, 256, 257, 258, 259,\n",
      "       260, 261, 262, 263, 264, 265, 266, 267, 268, 269, 270, 271, 272,\n",
      "       273, 274, 275, 276, 277, 278, 279, 280, 281, 282, 283, 284, 285,\n",
      "       286, 287, 288, 289, 290, 291, 292, 293, 294, 295, 296, 297, 298,\n",
      "       299, 300, 301, 302, 303, 304, 305, 306, 307, 308, 309, 310, 311,\n",
      "       312, 313, 314, 315, 316, 317, 318, 319, 320, 321, 322, 323, 324,\n",
      "       325, 326, 327, 328, 329, 330, 331, 332, 333, 334, 335, 336, 337,\n",
      "       338, 339, 340, 341, 342, 343, 344, 345, 346, 347, 348, 349, 350,\n",
      "       351, 352, 353, 354, 355, 356, 357, 358, 359, 360, 361, 362, 363,\n",
      "       364, 365, 366, 367, 368, 369, 370]),) [0.      0.      0.      0.      0.      0.21486 0.21486 1.27799 0.76681\n",
      " 0.      0.      0.      0.      0.      0.      0.14866 0.14866 0.248\n",
      " 0.248   0.29895 0.29895 0.      0.      0.      0.      0.      0.\n",
      " 0.      0.00515 0.      0.20443 0.      0.      0.      0.      0.0278\n",
      " 0.      0.      0.14182 0.14182 0.      0.      0.      0.      0.05767\n",
      " 0.      0.      0.      1.33726 1.33726 0.      0.      1.19238 0.\n",
      " 0.      0.      0.      0.88187 0.88187 0.      0.27528 0.33584 0.33584\n",
      " 0.      0.      0.      0.      0.      0.      0.      0.      0.\n",
      " 0.      0.      0.      0.      0.      0.43077 0.      0.      0.03887\n",
      " 0.03887 0.      0.      0.      0.18211 0.      0.      0.      0.2141\n",
      " 0.00006 0.00006 0.0197  0.19106 0.19106 0.      0.      0.03673 0.\n",
      " 0.      0.      0.      0.      0.      0.18748 0.      0.      0.\n",
      " 0.06613 0.06613 0.      0.      0.      0.0048  0.0048  0.      0.11355\n",
      " 0.      0.      0.      0.      0.      0.0132  0.18183 0.18183 0.\n",
      " 0.      0.      0.      0.00659 0.00659 0.      0.      0.00239 0.\n",
      " 0.      0.      0.      0.      0.      0.05727 0.05727 0.      0.\n",
      " 0.      0.      0.      0.      0.      0.10246 0.10246 0.      0.\n",
      " 0.      0.      0.      0.      0.      0.0201  0.0201  0.      0.\n",
      " 0.      0.      0.      0.      0.      0.00149 0.      0.      0.02715\n",
      " 0.      0.      0.      0.      0.0115  0.0115  0.      0.      0.\n",
      " 0.      0.      0.      0.08969 0.08969 0.      0.      0.      0.\n",
      " 0.      0.      0.      0.06236 0.      0.      0.05636 0.05636 0.\n",
      " 0.      0.      0.      0.02778 0.      0.      0.      0.      0.\n",
      " 0.      0.      0.      0.      0.      0.      0.      0.      0.\n",
      " 0.      0.      0.00713 0.00713 0.      0.      0.      0.      0.02498\n",
      " 0.02498 0.      0.      0.      0.      0.      0.      0.      0.00702\n",
      " 0.02747 0.      0.      0.      0.      0.02577 0.00117 0.00117 0.\n",
      " 0.      0.      0.      0.      0.01715 0.      0.      0.007   0.00076\n",
      " 0.00076 0.      0.00053 0.00053 0.01678 0.      0.      0.      0.21718\n",
      " 0.21718 0.      0.      0.      0.01463 0.      0.      0.05875 0.05875\n",
      " 0.16566 0.      0.00416 0.      0.0149  0.0149  0.      0.      0.\n",
      " 0.03996 0.      0.      0.      0.      0.      0.00289 0.      0.\n",
      " 0.00309 0.00309 0.      0.      0.      0.      0.      0.      0.00327\n",
      " 0.      0.08635 0.      0.05265 0.05265 0.      0.      0.      0.05339\n",
      " 0.00477 0.      0.      0.33427 0.33427 0.12777 0.      0.021   0.021\n",
      " 0.      0.      0.      0.04991 0.      0.      0.      0.      0.\n",
      " 0.      0.00288 0.00288 0.      0.      0.      0.      0.00601 0.\n",
      " 0.      0.      0.      0.      0.      0.      0.      0.      0.00669\n",
      " 0.00669 0.      0.      0.      0.00047 0.      0.      0.      0.\n",
      " 0.      0.      0.      0.      0.      0.      0.00057 0.00057 0.02349\n",
      " 0.      0.      0.02687 0.00415 0.00415 0.      0.      0.05513 0.\n",
      " 0.      0.00583] [0.      0.      0.      0.      0.      0.21486 0.21486 1.27799 0.76681\n",
      " 0.      0.      0.      0.      0.      0.      0.14866 0.14866 0.248\n",
      " 0.248   0.29895 0.29895 0.      0.      0.      0.      0.      0.\n",
      " 0.      0.00515 0.      0.20443 0.      0.      0.      0.      0.0278\n",
      " 0.      0.      0.14182 0.14182 0.      0.      0.      0.      0.05767\n",
      " 0.      0.      0.      1.33726 1.33726 0.      0.      1.19238 0.\n",
      " 0.      0.      0.      0.88187 0.88187 0.      0.27528 0.33584 0.33584\n",
      " 0.      0.      0.      0.      0.      0.      0.      0.      0.\n",
      " 0.      0.      0.      0.      0.      0.43077 0.      0.      0.03887\n",
      " 0.03887 0.      0.      0.      0.18211 0.      0.      0.      0.2141\n",
      " 0.00006 0.00006 0.0197  0.19106 0.19106 0.      0.      0.03673 0.\n",
      " 0.      0.      0.      0.      0.      0.18748 0.      0.      0.\n",
      " 0.06613 0.06613 0.      0.      0.      0.0048  0.0048  0.      0.11355\n",
      " 0.      0.      0.      0.      0.      0.0132  0.18183 0.18183 0.\n",
      " 0.      0.      0.      0.00659 0.00659 0.      0.      0.00239 0.\n",
      " 0.      0.      0.      0.      0.      0.05727 0.05727 0.      0.\n",
      " 0.      0.      0.      0.      0.      0.10246 0.10246 0.      0.\n",
      " 0.      0.      0.      0.      0.      0.0201  0.0201  0.      0.\n",
      " 0.      0.      0.      0.      0.      0.00149 0.      0.      0.02715\n",
      " 0.      0.      0.      0.      0.0115  0.0115  0.      0.      0.\n",
      " 0.      0.      0.      0.08969 0.08969 0.      0.      0.      0.\n",
      " 0.      0.      0.      0.06236 0.      0.      0.05636 0.05636 0.\n",
      " 0.      0.      0.      0.02778 0.      0.      0.      0.      0.\n",
      " 0.      0.      0.      0.      0.      0.      0.      0.      0.\n",
      " 0.      0.      0.00713 0.00713 0.      0.      0.      0.      0.02498\n",
      " 0.02498 0.      0.      0.      0.      0.      0.      0.      0.00702\n",
      " 0.02747 0.      0.      0.      0.      0.02577 0.00117 0.00117 0.\n",
      " 0.      0.      0.      0.      0.01715 0.      0.      0.007   0.00076\n",
      " 0.00076 0.      0.00053 0.00053 0.01678 0.      0.      0.      0.21718\n",
      " 0.21718 0.      0.      0.      0.01463 0.      0.      0.05875 0.05875\n",
      " 0.16566 0.      0.00416 0.      0.0149  0.0149  0.      0.      0.\n",
      " 0.03996 0.      0.      0.      0.      0.      0.00289 0.      0.\n",
      " 0.00309 0.00309 0.      0.      0.      0.      0.      0.      0.00327\n",
      " 0.      0.08635 0.      0.05265 0.05265 0.      0.      0.      0.05339\n",
      " 0.00477 0.      0.      0.33427 0.33427 0.12777 0.      0.021   0.021\n",
      " 0.      0.      0.      0.04991 0.      0.      0.      0.      0.\n",
      " 0.      0.00288 0.00288 0.      0.      0.      0.      0.00601 0.\n",
      " 0.      0.      0.      0.      0.      0.      0.      0.      0.00669\n",
      " 0.00669 0.      0.      0.      0.00047 0.      0.      0.      0.\n",
      " 0.      0.      0.      0.      0.      0.      0.00057 0.00057 0.02349\n",
      " 0.      0.      0.02687 0.00415 0.00415 0.      0.      0.05513 0.\n",
      " 0.      0.00583] [ 0.31295  0.33348  0.33348  0.36834  0.36834  0.58114  0.58114  0.60312\n",
      "  0.75521  0.76068  0.76068  0.81368  0.81368  0.81519  0.82068  0.83975\n",
      "  0.83975  0.8604   0.8604   0.91092  0.91092  0.93355  0.9403   0.9403\n",
      "  0.9812   0.98877  0.98877  0.99083  1.01865  1.02951  1.03983  1.06563\n",
      "  1.06563  1.10546  1.10546  1.14214  1.16856  1.16856  1.182    1.182\n",
      "  1.22802  1.22802  1.2641   1.2641   1.30928  1.32     1.32     1.32921\n",
      "  1.34985  1.34985  1.41548  1.41548  1.42463  1.51854  1.52436  1.52436\n",
      "  1.5245   1.59919  1.59919  1.61457  1.63813  1.68091  1.68091  1.70905\n",
      "  1.70905  1.71031  1.71031  1.72744  1.75324  1.7662   1.7662   1.77535\n",
      "  1.77535  1.83979  1.83979  1.91613  1.91613  1.96708  2.06351  2.06351\n",
      "  2.15859  2.15859  2.16137  2.16137  2.16788  2.16887  2.20004  2.20004\n",
      "  2.20248  2.21561  2.32032  2.32032  2.33838  2.39013  2.39013  2.39022\n",
      "  2.39022  2.49677  2.54493  2.54493  2.59338  2.99933  2.99992  2.99992\n",
      "  3.24807  3.25068  3.25068  3.25285  3.25749  3.25749  3.33422  3.38368\n",
      "  3.38368  3.39947  3.39947  3.52361  3.583    3.5965   3.5965   3.6022\n",
      "  3.69281  3.69281  3.69652  3.79952  3.79952  3.89825  3.89825  3.92026\n",
      "  3.92026  3.96824  3.96824  3.97096  3.97096  3.97418  4.0435   4.0435\n",
      "  4.05017  4.06059  4.06372  4.06372  4.06441  4.06441  4.09896  4.09896\n",
      "  4.1263   4.12655  4.12655  4.13357  4.13357  4.14678  4.14678  4.24058\n",
      "  4.24272  4.24272  4.27588  4.27588  4.39156  4.39156  4.47318  4.47318\n",
      "  4.55756  4.55756  4.57526  4.59654  4.59654  4.64     4.64     4.6551\n",
      "  4.72625  4.72625  4.73524  4.74861  4.74861  4.83495  4.83495  4.84811\n",
      "  4.84811  4.84963  4.84963  4.89588  4.89588  4.91366  4.91366  4.93454\n",
      "  4.93454  4.97888  4.97888  4.99118  4.99118  5.00999  5.00999  5.01737\n",
      "  5.04739  5.07719  5.07719  5.15465  5.15465  5.15828  5.15828  5.16939\n",
      "  5.16939  5.18371  5.23363  5.23363  5.28239  5.33388  5.37352  5.37352\n",
      "  5.4246   5.4246   5.43903  5.43903  5.47032  5.47032  5.52262  5.52262\n",
      "  5.53867  5.55551  5.6074   5.6074   5.62386  5.62386  5.6772   5.6772\n",
      "  5.69905  5.69905  5.7019   5.7019   5.73947  5.79393  5.79393  5.87889\n",
      "  5.87889  5.89019  5.98742  6.22413  6.22413  6.23359  6.23359  6.30468\n",
      "  6.34642  6.34642  6.45686  6.52195  6.93361  6.93361  6.94579  6.95486\n",
      "  6.98095  6.98095  7.01656  7.04969  7.04969  7.09639  7.14542  7.14542\n",
      "  7.2789   7.72682  7.72682  7.84233 15.14977 15.14977 15.1508  15.1508\n",
      " 15.7162  15.71725 15.77461 15.77461 15.77725 15.77725 15.81083 15.81279\n",
      " 15.8531  15.85662 16.03615 16.03615 16.03816 16.03816 16.05296 16.05341\n",
      " 16.20904 16.20904 16.21227 16.21227 16.3255  16.32876 16.49896 16.49896\n",
      " 16.5023  16.5023  16.74411 16.74411 16.74734 16.74734 16.76179 16.76179\n",
      " 16.77304 16.97023 17.05881 17.06308 17.15407 17.15407 17.15684 17.15684\n",
      " 17.3563  17.35679 17.54303 17.91967 17.91967 17.92425 17.92425 18.23551\n",
      " 18.24114 18.6297  18.6297  18.6313  18.6313  18.76855 18.77057 18.86401\n",
      " 18.86401 18.86743 18.86743 18.91309 18.91309 18.91657 18.91657 18.99071\n",
      " 18.99071 18.99359 18.99359 19.30013 19.30317 19.48113 19.48113 19.48199\n",
      " 19.48199 19.59409 19.59409 19.59697 19.59697 19.82222 19.82222 19.82443\n",
      " 19.82443 20.08706 20.09011 20.09383 20.09383 20.09463 20.09463 20.40579\n",
      " 20.40579 20.40919 20.40919 20.54106 20.54106 20.54366 20.54366 20.62014\n",
      " 20.62381 21.07146 21.07373 21.84648 21.84648 21.84993 21.84993 21.88512\n",
      " 21.88897 31.4976  31.50112] [ 0.31295  0.33348  0.33348  0.36834  0.36834  0.58114  0.58114  0.60312\n",
      "  0.75521  0.76068  0.76068  0.81368  0.81368  0.81519  0.82068  0.83975\n",
      "  0.83975  0.8604   0.8604   0.91092  0.91092  0.93355  0.9403   0.9403\n",
      "  0.9812   0.98877  0.98877  0.99083  1.01865  1.02951  1.03983  1.06563\n",
      "  1.06563  1.10546  1.10546  1.14214  1.16856  1.16856  1.182    1.182\n",
      "  1.22802  1.22802  1.2641   1.2641   1.30928  1.32     1.32     1.32921\n",
      "  1.34985  1.34985  1.41548  1.41548  1.42463  1.51854  1.52436  1.52436\n",
      "  1.5245   1.59919  1.59919  1.61457  1.63813  1.68091  1.68091  1.70905\n",
      "  1.70905  1.71031  1.71031  1.72744  1.75324  1.7662   1.7662   1.77535\n",
      "  1.77535  1.83979  1.83979  1.91613  1.91613  1.96708  2.06351  2.06351\n",
      "  2.15859  2.15859  2.16137  2.16137  2.16788  2.16887  2.20004  2.20004\n",
      "  2.20248  2.21561  2.32032  2.32032  2.33838  2.39013  2.39013  2.39022\n",
      "  2.39022  2.49677  2.54493  2.54493  2.59338  2.99933  2.99992  2.99992\n",
      "  3.24807  3.25068  3.25068  3.25285  3.25749  3.25749  3.33422  3.38368\n",
      "  3.38368  3.39947  3.39947  3.52361  3.583    3.5965   3.5965   3.6022\n",
      "  3.69281  3.69281  3.69652  3.79952  3.79952  3.89825  3.89825  3.92026\n",
      "  3.92026  3.96824  3.96824  3.97096  3.97096  3.97418  4.0435   4.0435\n",
      "  4.05017  4.06059  4.06372  4.06372  4.06441  4.06441  4.09896  4.09896\n",
      "  4.1263   4.12655  4.12655  4.13357  4.13357  4.14678  4.14678  4.24058\n",
      "  4.24272  4.24272  4.27588  4.27588  4.39156  4.39156  4.47318  4.47318\n",
      "  4.55756  4.55756  4.57526  4.59654  4.59654  4.64     4.64     4.6551\n",
      "  4.72625  4.72625  4.73524  4.74861  4.74861  4.83495  4.83495  4.84811\n",
      "  4.84811  4.84963  4.84963  4.89588  4.89588  4.91366  4.91366  4.93454\n",
      "  4.93454  4.97888  4.97888  4.99118  4.99118  5.00999  5.00999  5.01737\n",
      "  5.04739  5.07719  5.07719  5.15465  5.15465  5.15828  5.15828  5.16939\n",
      "  5.16939  5.18371  5.23363  5.23363  5.28239  5.33388  5.37352  5.37352\n",
      "  5.4246   5.4246   5.43903  5.43903  5.47032  5.47032  5.52262  5.52262\n",
      "  5.53867  5.55551  5.6074   5.6074   5.62386  5.62386  5.6772   5.6772\n",
      "  5.69905  5.69905  5.7019   5.7019   5.73947  5.79393  5.79393  5.87889\n",
      "  5.87889  5.89019  5.98742  6.22413  6.22413  6.23359  6.23359  6.30468\n",
      "  6.34642  6.34642  6.45686  6.52195  6.93361  6.93361  6.94579  6.95486\n",
      "  6.98095  6.98095  7.01656  7.04969  7.04969  7.09639  7.14542  7.14542\n",
      "  7.2789   7.72682  7.72682  7.84233 15.14977 15.14977 15.1508  15.1508\n",
      " 15.7162  15.71725 15.77461 15.77461 15.77725 15.77725 15.81083 15.81279\n",
      " 15.8531  15.85662 16.03615 16.03615 16.03816 16.03816 16.05296 16.05341\n",
      " 16.20904 16.20904 16.21227 16.21227 16.3255  16.32876 16.49896 16.49896\n",
      " 16.5023  16.5023  16.74411 16.74411 16.74734 16.74734 16.76179 16.76179\n",
      " 16.77304 16.97023 17.05881 17.06308 17.15407 17.15407 17.15684 17.15684\n",
      " 17.3563  17.35679 17.54303 17.91967 17.91967 17.92425 17.92425 18.23551\n",
      " 18.24114 18.6297  18.6297  18.6313  18.6313  18.76855 18.77057 18.86401\n",
      " 18.86401 18.86743 18.86743 18.91309 18.91309 18.91657 18.91657 18.99071\n",
      " 18.99071 18.99359 18.99359 19.30013 19.30317 19.48113 19.48113 19.48199\n",
      " 19.48199 19.59409 19.59409 19.59697 19.59697 19.82222 19.82222 19.82443\n",
      " 19.82443 20.08706 20.09011 20.09383 20.09383 20.09463 20.09463 20.40579\n",
      " 20.40579 20.40919 20.40919 20.54106 20.54106 20.54366 20.54366 20.62014\n",
      " 20.62381 21.07146 21.07373 21.84648 21.84648 21.84993 21.84993 21.88512\n",
      " 21.88897 31.4976  31.50112]\n"
     ]
    }
   ],
   "source": [
    "max_diff = np.max(np.abs(diag_dict['eigenvalues'] - diag_dict_num['eigenvalues'])*xray_help.hartree_in_ev())\n",
    "rel_diff = (diag_dict['eigenvalues'] - diag_dict_num['eigenvalues']) * 100 / diag_dict['eigenvalues']\n",
    "rel_diff_osc = (diag_dict['oscillator strengths'] - diag_dict_num['oscillator strengths']) * 100 / diag_dict['eigenvalues']\n",
    "\n",
    "indices = np.where(np.abs((diag_dict['eigenvalues'] - diag_dict_num['eigenvalues'])*xray_help.hartree_in_ev()) == max_diff)\n",
    "print(max_diff, indices, \n",
    "      diag_dict['oscillator strengths'][indices[0]], diag_dict_num['oscillator strengths'][indices[0]],\n",
    "      diag_dict['eigenvalues'][indices[0]], diag_dict_num['eigenvalues'][indices[0]])"
   ]
  },
  {
   "cell_type": "code",
   "execution_count": 74,
   "id": "46ef5eba-85d1-4f07-a245-85c85a6f145f",
   "metadata": {},
   "outputs": [
    {
     "data": {
      "text/plain": [
       "0.0"
      ]
     },
     "execution_count": 74,
     "metadata": {},
     "output_type": "execute_result"
    }
   ],
   "source": [
    "np.max(np.abs(E2-E2_num))"
   ]
  },
  {
   "cell_type": "code",
   "execution_count": 75,
   "id": "302ce59f-1f81-4dcd-ab5f-29e5fbd6ef72",
   "metadata": {},
   "outputs": [],
   "source": [
    "x, y = xray_help.add_broadening(diag_dict['eigenvalues'] * xray_help.hartree_in_ev(),\n",
    "                                diag_dict['oscillator strengths'], step=0.1, line_param=0.5, interval=(0, 50))\n",
    "xn, yn = xray_help.add_broadening(diag_dict_num['eigenvalues'] * xray_help.hartree_in_ev(),\n",
    "                                  diag_dict_num['oscillator strengths'], step=0.1, line_param=0.5, interval=(0, 50))\n",
    "if xctype == 'LDA':\n",
    "    xa, ya = xray_help.add_broadening(diag_dict_analytic['eigenvalues'] * xray_help.hartree_in_ev(),\n",
    "                                      diag_dict_analytic['oscillator strengths'], step=0.1, line_param=0.5)"
   ]
  },
  {
   "cell_type": "code",
   "execution_count": 76,
   "id": "5499fd63-e05c-4ea6-bb81-57038bb15799",
   "metadata": {},
   "outputs": [],
   "source": [
    "if regularization == 0:\n",
    "    reg_txt = \"\"\n",
    "else:\n",
    "    reg_txt = \"reg%.1e\" % regularization\n",
    "svg_name = name + \"_\" + functional + \"_\" + basis_name + \"_\" + reg_txt\n",
    "title = name + \", \" + functional + \"/\" + basis_name +\", TDA absorption spectrum, WY \" + reg_txt"
   ]
  },
  {
   "cell_type": "code",
   "execution_count": 77,
   "id": "4253b65e-b413-4d25-9fa7-d99890b1b9b6",
   "metadata": {},
   "outputs": [
    {
     "data": {
      "text/plain": [
       "'n2, Slater/cc-pvtz, TDA absorption spectrum, WY '"
      ]
     },
     "execution_count": 77,
     "metadata": {},
     "output_type": "execute_result"
    }
   ],
   "source": [
    "title"
   ]
  },
  {
   "cell_type": "code",
   "execution_count": 78,
   "id": "8cca0d90-b17f-4dd0-89ea-81a5679bf5de",
   "metadata": {},
   "outputs": [
    {
     "data": {
      "image/png": "[encoded data removed]",
      "text/plain": [
       "<Figure size 640x480 with 1 Axes>"
      ]
     },
     "metadata": {},
     "output_type": "display_data"
    }
   ],
   "source": [
    "plt.figure()\n",
    "plt.plot(x, y, label=\"PyScf TDA, exact diagonalization\", linewidth=2.5)\n",
    "plt.plot(xn, yn, \"-.\", label=\"Numerical fxc, symm. qotient\")\n",
    "if xctype == 'LDA':\n",
    "    plt.plot(xa, ya, \"--\", label=\"Analytic fxc\")\n",
    "plt.title(title)\n",
    "plt.xlabel(\"Energy (eV)\")\n",
    "plt.ylabel(\"Oscillator strength\")\n",
    "plt.legend()\n",
    "plt.axis(xmin=0, xmax=50)\n",
    "#plt.savefig(svg_name + \".svg\")\n",
    "plt.show()"
   ]
  },
  {
   "cell_type": "code",
   "execution_count": null,
   "id": "65a3d843-3a9e-4e09-864d-4faa50b301e6",
   "metadata": {},
   "outputs": [],
   "source": [
    "# plt.figure()\n",
    "# plt.plot(x, y-yn, label=\"PyScf fxc - num fxc, TDA, exact diagonalization\")\n",
    "# #plt.plot(xn, yn, \"-.\", label=\"Numerical fxc, symm. qotient\")\n",
    "# plt.title(name + \", \" + functional + \"/\" + basis_name +\", TDA absorption spectrum\")\n",
    "# plt.xlabel(\"Energy (eV)\")\n",
    "# plt.ylabel(\"Oscillator strength\")\n",
    "# plt.legend()\n",
    "# plt.savefig(name + \"_\" + functional + \"_\" + basis_name + \"_diff.svg\")\n",
    "# plt.show()"
   ]
  },
  {
   "cell_type": "code",
   "execution_count": null,
   "id": "4fb98fd1-3853-44bc-912d-10f8566553c1",
   "metadata": {},
   "outputs": [],
   "source": [
    "plt.figure()\n",
    "plt.bar(diag_dict['eigenvalues']*xray_help.hartree_in_ev(), rel_diff)\n",
    "plt.title(title)\n",
    "plt.xlabel(\"Energy (eV)\")\n",
    "plt.ylabel(\"Relative difference (%)\")\n",
    "# plt.axis(xmin=0, xmax=50) #, ymin=-5, ymax=0.1)\n",
    "#plt.savefig(svg_name + \"_reldiff.svg\")\n",
    "plt.show()"
   ]
  },
  {
   "cell_type": "code",
   "execution_count": null,
   "id": "e86d105f-35d6-4463-9672-4a47ceb1e740",
   "metadata": {},
   "outputs": [],
   "source": [
    "plt.figure()\n",
    "plt.bar(diag_dict['eigenvalues']*xray_help.hartree_in_ev(), rel_diff_osc)\n",
    "plt.title(title)\n",
    "plt.xlabel(\"Energy (eV)\")\n",
    "plt.ylabel(\"Relative difference (%)\")\n",
    "# plt.axis(xmin=0, xmax=50) #, ymin=-5, ymax=0.1)\n",
    "#plt.savefig(svg_name + \"_reldiff.svg\")\n",
    "plt.show()"
   ]
  },
  {
   "cell_type": "code",
   "execution_count": null,
   "id": "13fefd53-e9b4-4da3-879d-fab813ffd846",
   "metadata": {},
   "outputs": [],
   "source": []
  }
 ],
 "metadata": {
  "kernelspec": {
   "display_name": "Python 3 (ipykernel)",
   "language": "python",
   "name": "python3"
  },
  "language_info": {
   "codemirror_mode": {
    "name": "ipython",
    "version": 3
   },
   "file_extension": ".py",
   "mimetype": "text/x-python",
   "name": "python",
   "nbconvert_exporter": "python",
   "pygments_lexer": "ipython3",
   "version": "3.9.21"
  }
 },
 "nbformat": 4,
 "nbformat_minor": 5
}
